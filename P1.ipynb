{
 "cells": [
  {
   "cell_type": "markdown",
   "metadata": {},
   "source": [
    "# **Finding Lane Lines on the Road** \n",
    "***\n",
    "In this project, you will use the tools you learned about in the lesson to identify lane lines on the road.  You can develop your pipeline on a series of individual images, and later apply the result to a video stream (really just a series of images). Check out the video clip \"raw-lines-example.mp4\" (also contained in this repository) to see what the output should look like after using the helper functions below. \n",
    "\n",
    "Once you have a result that looks roughly like \"raw-lines-example.mp4\", you'll need to get creative and try to average and/or extrapolate the line segments you've detected to map out the full extent of the lane lines.  You can see an example of the result you're going for in the video \"P1_example.mp4\".  Ultimately, you would like to draw just one line for the left side of the lane, and one for the right.\n",
    "\n",
    "---\n",
    "Let's have a look at our first image called 'test_images/solidWhiteRight.jpg'.  Run the 2 cells below (hit Shift-Enter or the \"play\" button above) to display the image.\n",
    "\n",
    "**Note** If, at any point, you encounter frozen display windows or other confounding issues, you can always start again with a clean slate by going to the \"Kernel\" menu above and selecting \"Restart & Clear Output\".\n",
    "\n",
    "---"
   ]
  },
  {
   "cell_type": "markdown",
   "metadata": {},
   "source": [
    "**The tools you have are color selection, region of interest selection, grayscaling, Gaussian smoothing, Canny Edge Detection and Hough Tranform line detection.  You  are also free to explore and try other techniques that were not presented in the lesson.  Your goal is piece together a pipeline to detect the line segments in the image, then average/extrapolate them and draw them onto the image for display (as below).  Once you have a working pipeline, try it out on the video stream below.**\n",
    "\n",
    "---\n",
    "\n",
    "<figure>\n",
    " <img src=\"line-segments-example.jpg\" width=\"380\" alt=\"Combined Image\" />\n",
    " <figcaption>\n",
    " <p></p> \n",
    " <p style=\"text-align: center;\"> Your output should look something like this (above) after detecting line segments using the helper functions below </p> \n",
    " </figcaption>\n",
    "</figure>\n",
    " <p></p> \n",
    "<figure>\n",
    " <img src=\"laneLines_thirdPass.jpg\" width=\"380\" alt=\"Combined Image\" />\n",
    " <figcaption>\n",
    " <p></p> \n",
    " <p style=\"text-align: center;\"> Your goal is to connect/average/extrapolate line segments to get output like this</p> \n",
    " </figcaption>\n",
    "</figure>"
   ]
  },
  {
   "cell_type": "code",
   "execution_count": 3,
   "metadata": {
    "collapsed": false
   },
   "outputs": [
    {
     "ename": "SyntaxError",
     "evalue": "invalid syntax (<ipython-input-3-e3608ae59729>, line 8)",
     "output_type": "error",
     "traceback": [
      "\u001b[0;36m  File \u001b[0;32m\"<ipython-input-3-e3608ae59729>\"\u001b[0;36m, line \u001b[0;32m8\u001b[0m\n\u001b[0;31m    %%latex\u001b[0m\n\u001b[0m    ^\u001b[0m\n\u001b[0;31mSyntaxError\u001b[0m\u001b[0;31m:\u001b[0m invalid syntax\n"
     ]
    }
   ],
   "source": [
    "#importing some useful packages\n",
    "import matplotlib.pyplot as plt\n",
    "import matplotlib.image as mpimg\n",
    "import numpy as np\n",
    "import cv2\n",
    "import random\n",
    "%matplotlib inline\n"
   ]
  },
  {
   "cell_type": "code",
   "execution_count": null,
   "metadata": {
    "collapsed": false
   },
   "outputs": [],
   "source": [
    "#reading in an image\n",
    "image = mpimg.imread('test_images/solidWhiteRight.jpg')\n",
    "#printing out some stats and plotting\n",
    "print('This image is:', type(image), 'with dimesions:', image.shape)\n",
    "plt.imshow(image)  #call as plt.imshow(gray, cmap='gray') to show a grayscaled image"
   ]
  },
  {
   "cell_type": "markdown",
   "metadata": {},
   "source": [
    "**Some OpenCV functions (beyond those introduced in the lesson) that might be useful for this project are:**\n",
    "\n",
    "`cv2.inRange()` for color selection  \n",
    "`cv2.fillPoly()` for regions selection  \n",
    "`cv2.line()` to draw lines on an image given endpoints  \n",
    "`cv2.addWeighted()` to coadd / overlay two images\n",
    "`cv2.cvtColor()` to grayscale or change color\n",
    "`cv2.imwrite()` to output images to file  \n",
    "`cv2.bitwise_and()` to apply a mask to an image\n",
    "\n",
    "**Check out the OpenCV documentation to learn about these and discover even more awesome functionality!**"
   ]
  },
  {
   "cell_type": "markdown",
   "metadata": {},
   "source": [
    "Below are some helper functions to help get you started. They should look familiar from the lesson!"
   ]
  },
  {
   "cell_type": "code",
   "execution_count": null,
   "metadata": {
    "collapsed": true
   },
   "outputs": [],
   "source": [
    "import math\n",
    "\n",
    "def grayscale(img):\n",
    "    \"\"\"Applies the Grayscale transform\n",
    "    This will return an image with only one color channel\n",
    "    but NOTE: to see the returned image as grayscale\n",
    "    you should call plt.imshow(gray, cmap='gray')\"\"\"\n",
    "    return cv2.cvtColor(img, cv2.COLOR_RGB2GRAY)\n",
    "    # Or use BGR2GRAY if you read an image with cv2.imread()\n",
    "    # return cv2.cvtColor(img, cv2.COLOR_BGR2GRAY)\n",
    "    \n",
    "def canny(img, low_threshold, high_threshold):\n",
    "    \"\"\"Applies the Canny transform\"\"\"\n",
    "    return cv2.Canny(img, low_threshold, high_threshold)\n",
    "\n",
    "def gaussian_blur(img, kernel_size):\n",
    "    \"\"\"Applies a Gaussian Noise kernel\"\"\"\n",
    "    return cv2.GaussianBlur(img, (kernel_size, kernel_size), 0)\n",
    "\n",
    "def region_of_interest(img, vertices):\n",
    "    \"\"\"\n",
    "    Applies an image mask.\n",
    "    \n",
    "    Only keeps the region of the image defined by the polygon\n",
    "    formed from `vertices`. The rest of the image is set to black.\n",
    "    \"\"\"\n",
    "    #defining a blank mask to start with\n",
    "    mask = np.zeros_like(img)   \n",
    "    \n",
    "    #defining a 3 channel or 1 channel color to fill the mask with depending on the input image\n",
    "    if len(img.shape) > 2:\n",
    "        channel_count = img.shape[2]  # i.e. 3 or 4 depending on your image\n",
    "        ignore_mask_color = (255,) * channel_count\n",
    "    else:\n",
    "        ignore_mask_color = 255\n",
    "        \n",
    "    #filling pixels inside the polygon defined by \"vertices\" with the fill color    \n",
    "    cv2.fillPoly(mask, vertices, ignore_mask_color)\n",
    "    \n",
    "    #returning the image only where mask pixels are nonzero\n",
    "    masked_image = cv2.bitwise_and(img, mask)\n",
    "    return masked_image\n",
    "\n",
    "\n",
    "def draw_lines(img, lines, color=[255, 0, 0], thickness=2):\n",
    "    \"\"\"\n",
    "    NOTE: this is the function you might want to use as a starting point once you want to \n",
    "    average/extrapolate the line segments you detect to map out the full\n",
    "    extent of the lane (going from the result shown in raw-lines-example.mp4\n",
    "    to that shown in P1_example.mp4).  \n",
    "    \n",
    "    Think about things like separating line segments by their \n",
    "    slope ((y2-y1)/(x2-x1)) to decide which segments are part of the left\n",
    "    line vs. the right line.  Then, you can average the position of each of \n",
    "    the lines and extrapolate to the top and bottom of the lane.\n",
    "    \n",
    "    This function draws `lines` with `color` and `thickness`.    \n",
    "    Lines are drawn on the image inplace (mutates the image).\n",
    "    If you want to make the lines semi-transparent, think about combining\n",
    "    this function with the weighted_img() function below\n",
    "    \"\"\"\n",
    "    for line in lines:\n",
    "        for x1,y1,x2,y2 in line:\n",
    "            cv2.line(img, (x1, y1), (x2, y2), color, thickness)\n",
    "\n",
    "def hough_lines(img, rho, theta, threshold, min_line_len, max_line_gap):\n",
    "    \"\"\"\n",
    "    `img` should be the output of a Canny transform.\n",
    "        \n",
    "    Returns an image with hough lines drawn.\n",
    "    \"\"\"\n",
    "    lines = cv2.HoughLinesP(img, rho, theta, threshold, np.array([]), minLineLength=min_line_len, maxLineGap=max_line_gap)\n",
    "    #line_img = np.zeros((img.shape[0], img.shape[1], 3), dtype=np.uint8)\n",
    "    #draw_lines(line_img, lines, [255,0,0],1)\n",
    "    return lines\n",
    "\n",
    "# Python 3 has support for cool math symbols.\n",
    "\n",
    "def weighted_img(img, initial_img, α=0.8, β=1., λ=0.):\n",
    "    \"\"\"\n",
    "    `img` is the output of the hough_lines(), An image with lines drawn on it.\n",
    "    Should be a blank image (all black) with lines drawn on it.\n",
    "    \n",
    "    `initial_img` should be the image before any processing.\n",
    "    \n",
    "    The result image is computed as follows:\n",
    "    \n",
    "    initial_img * α + img * β + λ\n",
    "    NOTE: initial_img and img must be the same shape!\n",
    "    \"\"\"\n",
    "    return cv2.addWeighted(initial_img, α, img, β, λ)"
   ]
  },
  {
   "cell_type": "markdown",
   "metadata": {},
   "source": [
    "## Test on Images\n",
    "\n",
    "Now you should build your pipeline to work on the images in the directory \"test_images\"  \n",
    "**You should make sure your pipeline works well on these images before you try the videos.**"
   ]
  },
  {
   "cell_type": "code",
   "execution_count": null,
   "metadata": {
    "collapsed": false
   },
   "outputs": [],
   "source": [
    "import os\n",
    "os.listdir(\"test_images/\")"
   ]
  },
  {
   "cell_type": "markdown",
   "metadata": {},
   "source": [
    "run your solution on all test_images and make copies into the test_images directory)."
   ]
  },
  {
   "cell_type": "code",
   "execution_count": null,
   "metadata": {
    "collapsed": false
   },
   "outputs": [],
   "source": [
    "# TODO: Build your pipeline that will draw lane lines on the test_images\n",
    "# then save them to the test_images directory.\n",
    "img_path = \"test_images/\"\n",
    "img_list = os.listdir(img_path)\n",
    "\n",
    "#reading in an image\n",
    "image = mpimg.imread(img_path + img_list[5])\n",
    "\n",
    "# image size\n",
    "ysize = image.shape[0]\n",
    "xsize = image.shape[1]\n",
    "\n",
    "#printing out some stats and plotting\n",
    "print('This image is:', type(image), 'with dimesions:', image.shape)\n",
    "plt.imshow(image)  #call as plt.imshow(gray, cmap='gray') to show a grayscaled image\n",
    "\n",
    "\n",
    "\n"
   ]
  },
  {
   "cell_type": "markdown",
   "metadata": {},
   "source": [
    "Conversione Grayscale"
   ]
  },
  {
   "cell_type": "code",
   "execution_count": null,
   "metadata": {
    "collapsed": false
   },
   "outputs": [],
   "source": [
    "gray = grayscale(image)#cv2.cvtColor(image,cv2.COLOR_RGB2GRAY)\n",
    "plt.imshow(gray,cmap='gray')"
   ]
  },
  {
   "cell_type": "markdown",
   "metadata": {},
   "source": [
    "Applicazione gaussian blur"
   ]
  },
  {
   "cell_type": "code",
   "execution_count": null,
   "metadata": {
    "collapsed": false
   },
   "outputs": [],
   "source": [
    "# Define a kernel size and apply Gaussian smoothing\n",
    "def apply_blur(_image):\n",
    "    kernel_size = 1\n",
    "    return gaussian_blur(_image, kernel_size) #cv2.GaussianBlur(gray,(kernel_size, kernel_size),0)\n",
    "\n",
    "blur_gray = apply_blur(gray)\n",
    "plt.imshow(blur_gray,cmap='gray')"
   ]
  },
  {
   "cell_type": "markdown",
   "metadata": {},
   "source": [
    "Applicazione filtro di Canny"
   ]
  },
  {
   "cell_type": "code",
   "execution_count": null,
   "metadata": {
    "collapsed": false
   },
   "outputs": [],
   "source": [
    "# Define our parameters for Canny and apply\n",
    "def apply_canny(image):\n",
    "    low_threshold = 65\n",
    "    high_threshold = 70\n",
    "    return canny(image, low_threshold, high_threshold)\n",
    "\n",
    "edges = apply_canny(blur_gray)\n",
    "plt.imshow(edges,cmap='gray')"
   ]
  },
  {
   "cell_type": "markdown",
   "metadata": {},
   "source": [
    "Aggiunta filtro in base a colore"
   ]
  },
  {
   "cell_type": "code",
   "execution_count": null,
   "metadata": {
    "collapsed": false
   },
   "outputs": [],
   "source": [
    "# Define our color criteria\n",
    "def apply_color_filter(_image, _edges):\n",
    "    red_threshold = 140\n",
    "    green_threshold = 140\n",
    "    blue_threshold = 255\n",
    "    prova =  gaussian_blur(_image, 5)\n",
    "    rgb_threshold = np.array([red_threshold, green_threshold, blue_threshold])\n",
    "    #mask = cv2.inRange(_image, rgb_threshold, np.array([255, 255, 255]))\n",
    "    mask = cv2.inRange(prova, np.array([0, 0, 0]),rgb_threshold )\n",
    "    mask_inv = cv2.bitwise_not(mask)\n",
    "    #mask = gaussian_blur(mask, 11)\n",
    "    return cv2.bitwise_and(_edges,_edges, mask=mask_inv)\n",
    "    #return cv2.bitwise_and(_image,_image, mask=mask_inv)\n",
    "\n",
    "color_thresholds_image = apply_color_filter(image, edges)\n",
    "#color_thresholds_image = edges\n",
    "plt.imshow(color_thresholds_image,cmap='gray')"
   ]
  },
  {
   "cell_type": "code",
   "execution_count": null,
   "metadata": {
    "collapsed": false
   },
   "outputs": [],
   "source": [
    "def select_subimage(image):\n",
    "    def compute_interest_areas():\n",
    "            ysize = image.shape[0]\n",
    "            xsize = image.shape[1]\n",
    "            top = math.floor(0.58*ysize)\n",
    "            left = math.floor(0.4*xsize)\n",
    "            right = math.floor(0.6*xsize)\n",
    "            return top, left, right\n",
    "        \n",
    "\n",
    "    top, left, right = compute_interest_areas()\n",
    "      \n",
    "    image = image[top:ysize,0:xsize]\n",
    "    \n",
    "    bottom_left = np.int32([0, ysize-top])\n",
    "    bottom_right = np.int32([xsize, ysize-top])\n",
    "    top_left = np.int32([left,0])\n",
    "    top_right = np.int32([right,0])\n",
    "\n",
    "    \n",
    "    angoli_polig = [np.array([bottom_left, bottom_right, top_right, top_left], np.int32)]\n",
    "    return region_of_interest(image, angoli_polig),top\n",
    "\n",
    "edges_subimage, top_crop = select_subimage(color_thresholds_image)\n",
    "#edges_subimage = gaussian_blur(edges_subimage, 11)\n",
    "plt.imshow(edges_subimage, cmap='gray')"
   ]
  },
  {
   "cell_type": "markdown",
   "metadata": {},
   "source": [
    "Selezione porzione di immagine"
   ]
  },
  {
   "cell_type": "code",
   "execution_count": null,
   "metadata": {
    "collapsed": false,
    "scrolled": true
   },
   "outputs": [],
   "source": [
    "# Define the Hough transform parameters\n",
    "# Make a blank the same size as our image to draw on\n",
    "def hough_transform(_image):\n",
    "    xsize = _image.shape[1]\n",
    "    ysize = _image.shape[0]\n",
    "    y_half = math.floor(ysize/2)\n",
    "    \n",
    "    rho = 2\n",
    "    theta = 2*np.pi/180\n",
    "    threshold = 50    \n",
    "    min_line_length = 1\n",
    "    max_line_gap = 40\n",
    "    \n",
    "    lines = hough_lines(_image, rho, theta, threshold, min_line_length, max_line_gap)\n",
    "    \n",
    "    return lines\n",
    "\n",
    "lines = hough_transform(edges_subimage)\n",
    "\n",
    "# GRAFICA\n",
    "line_img = np.zeros((edges_subimage.shape[0], edges_subimage.shape[1], 3), dtype=np.uint8)\n",
    "draw_lines(line_img, lines,thickness=6)\n",
    "\n",
    "# Create a \"color\" binary image to combine with line image\n",
    "color_edges = np.dstack((edges_subimage, edges_subimage, edges_subimage)) \n",
    "\n",
    "hough_image = weighted_img(line_img, color_edges)\n",
    "plt.imshow(hough_image)\n"
   ]
  },
  {
   "cell_type": "code",
   "execution_count": null,
   "metadata": {
    "collapsed": false
   },
   "outputs": [],
   "source": [
    "# Sort of RANSAC alghoritm to select lines\n",
    "\n",
    "def ransac(xsize, ysize, lines):    \n",
    "    #threshold_distance = [1 ,30] # min, max\n",
    "    \n",
    "    if lines is None:\n",
    "        return np.zeros((ysize, xsize, 3), dtype=np.uint8)\n",
    "    \n",
    "    inlierRatio = 0 # 0.3\n",
    "    threshold = 20\n",
    "    red_overlay_Yratio = 0.8\n",
    "    \n",
    "    points_number = 0\n",
    "    for line in lines:\n",
    "        A = line[0][0:2]\n",
    "        B = line[0][2:4]\n",
    "        points_number += np.linalg.norm([A[0]-B[0],A[1]-B[1]])\n",
    "        \n",
    "    \n",
    "    results = []\n",
    "    for sample in lines:\n",
    "        A = sample[0][0:2]\n",
    "        B = sample[0][2:4]\n",
    "        inlierNum = 0\n",
    "        fine = False\n",
    "        \n",
    "        # Find lane parameters (versor parallel, perpendicular + translation)\n",
    "        kLine = B - A # two points relative distance\n",
    "        #plt.plot([A[0],B[0]],[A[1],B[1]])\n",
    "        normaVettore = np.linalg.norm(kLine)\n",
    "        kLineNorm = kLine/normaVettore\n",
    "        \n",
    "        if math.fabs(kLineNorm[1]) < 0.5 or normaVettore < 5:\n",
    "            #print(\"Skippato (corto e\\o poco pendente) \")\n",
    "            continue\n",
    "        \n",
    "        for normVector_tmp, q_tmp, _ in results:\n",
    "            threshold_B = threshold\n",
    "            threshold_A = threshold\n",
    "            dist_A = math.fabs(normVector_tmp[0]*A[0]+normVector_tmp[1]*A[1]-q_tmp)\n",
    "            dist_B = math.fabs(normVector_tmp[0]*B[0]+normVector_tmp[1]*B[1]-q_tmp)\n",
    "\n",
    "            if (dist_A < threshold_A) or (dist_B < threshold_B):\n",
    "                fine = True\n",
    "                break\n",
    "        \n",
    "        if fine:\n",
    "            continue\n",
    "                 \n",
    "        normVector = [-kLineNorm[1],kLineNorm[0]] #Ax+By+C=0 A=-kLineNorm(2),B=kLineNorm(1)\n",
    "\n",
    "        q = normVector[0] * A[0] + normVector[1] * A[1]  \n",
    "\n",
    "        \n",
    "        # Find consensus\n",
    "        inlierNum = 0\n",
    "        inlayer_list = []\n",
    "        y_max = 0\n",
    "        y_min = ysize\n",
    "        for line in lines:\n",
    "            \n",
    "            for x1, y1, x2, y2 in line:\n",
    "                #print(x1,y1,x2,y2)\n",
    "                \n",
    "                kLine_local = [x2-x1, y2-y1]\n",
    "        \n",
    "                concordi = kLine_local[0]*normVector[0] + kLine_local[1]*normVector[1]\n",
    "                #print(\"concordi scalar: \\t{0}\".format(concordi))\n",
    "                \n",
    "                if math.fabs(concordi) < 0.01:                    \n",
    "                    dist_center = (A[0]-x1)*normVector[0] + (A[1]-y1)*normVector[1]\n",
    "                    if math.fabs(dist_center<threshold):\n",
    "                        intersections = [0,1]\n",
    "                else:\n",
    "                    \n",
    "                    intersections = [] #init intersection\n",
    "                    for _dir in [-1,1]:\n",
    "                        # two points relative distance\n",
    "                        b = np.array(A-[x1, y1]+[_dir*threshold*normVector[0], _dir*threshold*normVector[1]])\n",
    "                        #print(\"A: {0}; point: ({1},{2}); b: {3}\".format(A, x1, y1, b))\n",
    "                        A_mat = np.array([[kLineNorm[0], kLine_local[0]], [kLineNorm[1], kLine_local[1]]])\n",
    "                          \n",
    "                        if concordi*threshold*_dir > 0: # concordi\n",
    "                            _lambda = np.linalg.solve(A_mat, b)\n",
    "                            if _lambda[1] < 0:\n",
    "                                break\n",
    "                        else:\n",
    "                            _lambda = np.linalg.solve(A_mat, b)\n",
    "                            if _lambda[1] > 1:\n",
    "                                break\n",
    "                        intersections.append(_lambda[1])\n",
    "                    if len(intersections) == 2:\n",
    "                        if intersections[0]>intersections[1]: #swap\n",
    "                            tmp = intersections[0]\n",
    "                            intersections[0] = intersections[1]\n",
    "                            intersections[1] = tmp\n",
    "                        \n",
    "                        intersections[0] = max([intersections[0],0])\n",
    "                        intersections[1] = min([intersections[1],1])\n",
    "                        \n",
    "                        #print(intersections)\n",
    "                        lung = ((intersections[1]-intersections[0])*np.linalg.norm(kLine_local))\n",
    "                        x_s = x1 + intersections[0] * kLine_local[0]\n",
    "                        y_s = y1 + intersections[0] * kLine_local[1]\n",
    "                        x_e = x1 + intersections[1] * kLine_local[0]\n",
    "                        y_e = y1 + intersections[1] * kLine_local[1]\n",
    "                        #print(\"y_s,y_e : {0},{1}\".format(y_s,y_e))\n",
    "                        if y_s<y_e:\n",
    "                            #print(\"y_s < y_e\")\n",
    "                            if y_s<y_min:\n",
    "                                y_min = y_s\n",
    "                            if y_e>y_max:\n",
    "                                y_max = y_e\n",
    "                        else:\n",
    "                            #print(\"y_e < y_s\")\n",
    "                            if y_e<y_min:\n",
    "                                y_min = y_e\n",
    "                            if y_s>y_max:\n",
    "                                y_max = y_s\n",
    "                        \n",
    "                        inlayer_list.append([x_s,y_s, lung/2])\n",
    "                        inlayer_list.append([x_e,y_e, lung/2])\n",
    "                        \n",
    "                        inlierNum += lung\n",
    "                        #print(\"intersections: {0}\".format(intersections))\n",
    "                    #else:\n",
    "                    #    print(\"No intersections\")\n",
    "        \n",
    "        #print(y_max,y_min,inlierRatio*ysize)\n",
    "        if not((y_max-y_min) >= np.int32(inlierRatio*ysize)):\n",
    "            continue                             \n",
    "        #result = [normVector, q, inlierNum/points_number]\n",
    "        #results.append(result)\n",
    "        \n",
    "        # refine\n",
    "        x_medio = 0\n",
    "        y_medio = 0\n",
    "        peso_tot = 0\n",
    "        for x,y,peso in inlayer_list:\n",
    "            x_medio += x*peso\n",
    "            y_medio += y*peso        \n",
    "        \n",
    "        x_medio /= inlierNum\n",
    "        y_medio /= inlierNum\n",
    "        \n",
    "        denom = 0\n",
    "        num = 0\n",
    "        for x,y,peso in inlayer_list:\n",
    "            err_x = x-x_medio\n",
    "            err_y = y-y_medio\n",
    "            denom += peso*err_y*err_y            \n",
    "            num += peso*err_x*err_y\n",
    "         \n",
    "        norma_vett = math.sqrt(pow(denom,2)+pow(num,2))\n",
    "        normVector[0] = denom/norma_vett\n",
    "        normVector[1] = -num/norma_vett\n",
    "    \n",
    "            \n",
    "        q = x_medio*normVector[0] + y_medio*normVector[1]\n",
    "        \n",
    "        \n",
    "              \n",
    "        # Update the number of inliers and fitting model if better model is found     \n",
    "        if np.isnan(q) or np.isnan(normVector[0]) or np.isnan(normVector[1]) :\n",
    "            continue\n",
    "        \n",
    "        result = [normVector, q, inlierNum/points_number]\n",
    "        results.append(result)\n",
    "      \n",
    "    detected_line_img = np.zeros((ysize, xsize, 3), dtype=np.uint8)\n",
    "    for normVector, q, ratio in results:\n",
    "        kLineNorm = [normVector[1],-normVector[0]]\n",
    "        deltaY = red_overlay_Yratio*ysize\n",
    "        scala = -deltaY/kLineNorm[1]\n",
    "        delta=[]\n",
    "        delta.append(scala*kLineNorm[0])\n",
    "        delta.append(scala*kLineNorm[1])\n",
    "        #print(\"norm delta: \\t{0}\".format(np.linalg.norm(delta)))\n",
    "        #m = -normVector[1]/normVector[0]\n",
    "        #q = q/normVector[0]\n",
    "        P1 = [(-normVector[1]*ysize+q)/normVector[0],ysize]\n",
    "        P2 = []\n",
    "        P2.append(P1[0]+delta[0])\n",
    "        P2.append(P1[1]+delta[1])\n",
    "        #print(P1)\n",
    "        #print(P2)\n",
    "        line = [math.ceil(P1[0]),math.ceil(P1[1]),math.ceil(P2[0]),math.ceil(P2[1])]\n",
    "        draw_lines(detected_line_img, [[line]], [255*ratio,0,0],12)\n",
    "        #print(delta)\n",
    "        #print([math.floor(P1[0]),math.floor(P2[0])],[math.floor(P1[1]),math.floor(P2[1])])\n",
    "        \n",
    "        #plt.plot([math.floor(P1[0]),math.floor(P2[0])],[math.floor(P1[1]),math.floor(P2[1])])\n",
    "    #plt.show()\n",
    "    return detected_line_img\n",
    "        \n",
    "detected_line_img = ransac(xsize, ysize-top_crop, lines)\n",
    "# img, initial_img, α=0.8, β=1., λ=0.\n",
    "\n",
    "tmp_img = np.zeros((ysize, xsize, 3), dtype=np.uint8)\n",
    "tmp_img[top_crop:ysize,0:xsize] = detected_line_img\n",
    "image_show  = weighted_img(tmp_img, image, α=0.5, β=20., λ=50.)\n",
    "#plt.imshow(img_show)\n",
    "plt.imshow(image_show)"
   ]
  },
  {
   "cell_type": "markdown",
   "metadata": {},
   "source": [
    "## Test on Videos\n",
    "\n",
    "You know what's cooler than drawing lanes over images? Drawing lanes over video!\n",
    "\n",
    "We can test our solution on two provided videos:\n",
    "\n",
    "`solidWhiteRight.mp4`\n",
    "\n",
    "`solidYellowLeft.mp4`"
   ]
  },
  {
   "cell_type": "code",
   "execution_count": null,
   "metadata": {
    "collapsed": false
   },
   "outputs": [],
   "source": [
    "# Import everything needed to edit/save/watch video clips\n",
    "from moviepy.editor import VideoFileClip\n",
    "from IPython.display import HTML"
   ]
  },
  {
   "cell_type": "code",
   "execution_count": null,
   "metadata": {
    "collapsed": false
   },
   "outputs": [],
   "source": [
    "def process_image(image):    \n",
    "    xsize = image.shape[1]\n",
    "    ysize = image.shape[0]\n",
    "    gray = grayscale(image)\n",
    "    blur_gray = apply_blur(gray)\n",
    "    edges = apply_canny(blur_gray)\n",
    "    color_thresholds_image = apply_color_filter(image, edges)\n",
    "    #return color_thresholds_image\n",
    "    edges_subimage,top_crop = select_subimage(color_thresholds_image)  \n",
    "    #return edges_subimage\n",
    "    lines = hough_transform(edges_subimage)\n",
    "    detected_line_img = ransac(xsize, ysize-top_crop, lines)\n",
    "    tmp_img = np.zeros((ysize, xsize, 3), dtype=np.uint8)\n",
    "    tmp_img[top_crop:ysize,0:xsize] = detected_line_img\n",
    "    image_res = weighted_img(tmp_img, image, α=0.5, β=20., λ=50.)\n",
    "    return image_res"
   ]
  },
  {
   "cell_type": "markdown",
   "metadata": {},
   "source": [
    "Let's try the one with the solid white lane on the right first ..."
   ]
  },
  {
   "cell_type": "code",
   "execution_count": null,
   "metadata": {
    "collapsed": false
   },
   "outputs": [],
   "source": [
    "white_output = 'white.mp4'\n",
    "clip1 = VideoFileClip(\"solidWhiteRight.mp4\")\n",
    "white_clip = clip1.fl_image(process_image) #NOTE: this function expects color images!!\n",
    "%time white_clip.write_videofile(white_output, audio=False)"
   ]
  },
  {
   "cell_type": "markdown",
   "metadata": {},
   "source": [
    "Play the video inline, or if you prefer find the video in your filesystem (should be in the same directory) and play it in your video player of choice."
   ]
  },
  {
   "cell_type": "code",
   "execution_count": null,
   "metadata": {
    "collapsed": false
   },
   "outputs": [],
   "source": [
    "HTML(\"\"\"\n",
    "<video width=\"960\" height=\"540\" controls>\n",
    "  <source src=\"{0}\">\n",
    "</video>\n",
    "\"\"\".format(white_output))"
   ]
  },
  {
   "cell_type": "markdown",
   "metadata": {},
   "source": [
    "**At this point, if you were successful you probably have the Hough line segments drawn onto the road, but what about identifying the full extent of the lane and marking it clearly as in the example video (P1_example.mp4)?  Think about defining a line to run the full length of the visible lane based on the line segments you identified with the Hough Transform.  Modify your draw_lines function accordingly and try re-running your pipeline.**"
   ]
  },
  {
   "cell_type": "markdown",
   "metadata": {},
   "source": [
    "Now for the one with the solid yellow lane on the left. This one's more tricky!"
   ]
  },
  {
   "cell_type": "code",
   "execution_count": null,
   "metadata": {
    "collapsed": false
   },
   "outputs": [],
   "source": [
    "yellow_output = 'yellow.mp4'\n",
    "clip2 = VideoFileClip('solidYellowLeft.mp4')\n",
    "yellow_clip = clip2.fl_image(process_image)\n",
    "%time yellow_clip.write_videofile(yellow_output, audio=False)"
   ]
  },
  {
   "cell_type": "code",
   "execution_count": null,
   "metadata": {
    "collapsed": false
   },
   "outputs": [],
   "source": [
    "HTML(\"\"\"\n",
    "<video width=\"960\" height=\"540\" controls>\n",
    "  <source src=\"{0}\">\n",
    "</video>\n",
    "\"\"\".format(yellow_output))"
   ]
  },
  {
   "cell_type": "markdown",
   "metadata": {},
   "source": [
    "## Reflections\n",
    "\n",
    "Congratulations on finding the lane lines!  As the final step in this project, we would like you to share your thoughts on your lane finding pipeline... specifically, how could you imagine making your algorithm better / more robust?  Where will your current algorithm be likely to fail?\n",
    "\n",
    "The current pipeline is structured as follow:\n",
    "1. Convert the RGB image in grayscale,\n",
    "```\n",
    "gray = grayscale(image)\n",
    "```\n",
    "2. Apply on the gray image a blur filter to reduce the noise,\n",
    "```\n",
    "blur_gray = apply_blur(gray)\n",
    "```\n",
    "3. Detect in the blur_gray image the edges with canny,\n",
    "```\n",
    "edges = apply_canny(blur_gray)\n",
    "```\n",
    "4. Remove the edges of the shapes with dark colour,\n",
    "```\n",
    "color_thresholds_image = apply_color_filter(image, edges)\n",
    "```\n",
    "5. Crop the image and keep the part with the road lines (bottom),\n",
    "```\n",
    "edges,top_crop = select_subimage(color_thresholds_image)  \n",
    "```\n",
    "6. Apply the hough transform to detect the lines in the edges image as segments (pairs of points)\n",
    "```\n",
    "lines = hough_transform(edges)\n",
    "```\n",
    "7. Apply a ransac inspired function to filter the line segments and find the straight lines that better match the road lines\n",
    "```\n",
    "detected_line_img = ransac(xsize, ysize-top_crop, lines)\n",
    "```\n",
    "\n",
    "The first 6 steps are like the ones in the lectures, the only thing I want to stress is that the hough trasform is optimized for the recognition of straight lines and therefore bended lines are harder to detect.\n",
    "\n",
    "The last step takes all the lines from the hough trasform and trys to infer the position of the roadlines returning a list of candidates. A possible way to improve this function is to filter the candidates and keep the 2 lines that are convergent with the intersection point near the middle of the image.\n",
    "\n",
    "\n",
    "Please add your thoughts below,  and if you're up for making your pipeline more robust, be sure to scroll down and check out the optional challenge video below!"
   ]
  },
  {
   "cell_type": "markdown",
   "metadata": {},
   "source": [
    "## Submission\n",
    "\n",
    "If you're satisfied with your video outputs it's time to submit!  Submit this ipython notebook for review.\n"
   ]
  },
  {
   "cell_type": "markdown",
   "metadata": {
    "collapsed": true
   },
   "source": [
    "## Optional Challenge\n",
    "\n",
    "Try your lane finding pipeline on the video below.  Does it still work?  Can you figure out a way to make it more robust?  If you're up for the challenge, modify your pipeline so it works with this video and submit it along with the rest of your project!"
   ]
  },
  {
   "cell_type": "code",
   "execution_count": null,
   "metadata": {
    "collapsed": false
   },
   "outputs": [],
   "source": [
    "challenge_output = 'extra.mp4'\n",
    "clip2 = VideoFileClip('challenge.mp4')\n",
    "challenge_clip = clip2.fl_image(process_image)\n",
    "%time challenge_clip.write_videofile(challenge_output, audio=False)"
   ]
  },
  {
   "cell_type": "code",
   "execution_count": null,
   "metadata": {
    "collapsed": false
   },
   "outputs": [],
   "source": [
    "HTML(\"\"\"\n",
    "<video width=\"960\" height=\"540\" controls>\n",
    "  <source src=\"{0}\">\n",
    "</video>\n",
    "\"\"\".format(challenge_output))"
   ]
  }
 ],
 "metadata": {
  "anaconda-cloud": {},
  "kernelspec": {
   "display_name": "Python [conda root]",
   "language": "python",
   "name": "conda-root-py"
  },
  "language_info": {
   "codemirror_mode": {
    "name": "ipython",
    "version": 3
   },
   "file_extension": ".py",
   "mimetype": "text/x-python",
   "name": "python",
   "nbconvert_exporter": "python",
   "pygments_lexer": "ipython3",
   "version": "3.5.2"
  }
 },
 "nbformat": 4,
 "nbformat_minor": 0
}
